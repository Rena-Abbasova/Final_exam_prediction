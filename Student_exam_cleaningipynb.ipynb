{
  "nbformat": 4,
  "nbformat_minor": 0,
  "metadata": {
    "colab": {
      "private_outputs": true,
      "provenance": []
    },
    "kernelspec": {
      "name": "python3",
      "display_name": "Python 3"
    },
    "language_info": {
      "name": "python"
    }
  },
  "cells": [
    {
      "cell_type": "code",
      "execution_count": null,
      "metadata": {
        "id": "HTfihRVyIIxQ"
      },
      "outputs": [],
      "source": [
        "import pandas as pd\n",
        "import numpy as np\n",
        "import matplotlib.pyplot as plt\n",
        "import seaborn as sns\n",
        "import warnings\n",
        "warnings.filterwarnings('ignore')"
      ]
    },
    {
      "cell_type": "code",
      "source": [
        "sns.set(font_scale=1.5)"
      ],
      "metadata": {
        "id": "XPxyjtcjIwzG"
      },
      "execution_count": null,
      "outputs": []
    },
    {
      "cell_type": "code",
      "source": [
        "pd.options.display.max_columns=500\n",
        "pd.options.display.max_rows=500\n",
        "pd.options.display.max_colwidth=500\n"
      ],
      "metadata": {
        "id": "iviV8UWbSmbp"
      },
      "execution_count": null,
      "outputs": []
    },
    {
      "cell_type": "code",
      "source": [
        "df = pd.read_csv('/content/drive/MyDrive/data/student-mat.csv',sep=';')"
      ],
      "metadata": {
        "id": "ejXgzrMuTNfW"
      },
      "execution_count": null,
      "outputs": []
    },
    {
      "cell_type": "code",
      "source": [
        "df.head()"
      ],
      "metadata": {
        "id": "lDIi6TWsTdvH"
      },
      "execution_count": null,
      "outputs": []
    },
    {
      "cell_type": "code",
      "source": [
        "df.info()"
      ],
      "metadata": {
        "id": "2mcxHlAgThEF"
      },
      "execution_count": null,
      "outputs": []
    },
    {
      "cell_type": "code",
      "source": [
        "df.columns"
      ],
      "metadata": {
        "id": "dU5hSVrhVG2T"
      },
      "execution_count": null,
      "outputs": []
    },
    {
      "cell_type": "code",
      "source": [
        "df.school.unique()"
      ],
      "metadata": {
        "id": "Xn59jzFFVYzi"
      },
      "execution_count": null,
      "outputs": []
    },
    {
      "cell_type": "code",
      "source": [
        "df.isnull().sum()"
      ],
      "metadata": {
        "id": "jwJblZ92Vs61"
      },
      "execution_count": null,
      "outputs": []
    },
    {
      "cell_type": "code",
      "source": [],
      "metadata": {
        "id": "RtlAWvXHW1d_"
      },
      "execution_count": null,
      "outputs": []
    },
    {
      "cell_type": "markdown",
      "source": [
        "# Cleaning the outliers"
      ],
      "metadata": {
        "id": "mmQ9RN6rX4ea"
      }
    },
    {
      "cell_type": "code",
      "source": [
        "\n",
        "sns.boxplot(data = df, orient='h')"
      ],
      "metadata": {
        "id": "scGlu93_X99z"
      },
      "execution_count": null,
      "outputs": []
    },
    {
      "cell_type": "code",
      "source": [],
      "metadata": {
        "id": "0cSvln2eDbVb"
      },
      "execution_count": null,
      "outputs": []
    },
    {
      "cell_type": "code",
      "source": [
        "def computeUpperFence (df_col, up=True):\n",
        "  iqr = df_col.quantile(.75) - df_col.quantile(.25) # inter quartile range\n",
        "  if up:\n",
        "    return df_col.quantile(.75) + iqr*1.5\n",
        "  return df_col.quantile(.25) - iqr*1.5"
      ],
      "metadata": {
        "id": "T2L7liqsYE6D"
      },
      "execution_count": null,
      "outputs": []
    },
    {
      "cell_type": "code",
      "source": [],
      "metadata": {
        "id": "NgsaLmVWHxAv"
      },
      "execution_count": null,
      "outputs": []
    },
    {
      "cell_type": "code",
      "source": [
        "sns.boxplot(data=df[['absences']], orient='h')"
      ],
      "metadata": {
        "id": "04bZ2Epeaai1"
      },
      "execution_count": null,
      "outputs": []
    },
    {
      "cell_type": "code",
      "source": [
        "# Checking the outliers\n",
        "abs = df['absences']\n",
        "abs_up_lim = computeUpperFence(abs)\n",
        "df[ abs>abs_up_lim]\n",
        "# They are atypical not outliers."
      ],
      "metadata": {
        "id": "qwuQARQdBBoj"
      },
      "execution_count": null,
      "outputs": []
    },
    {
      "cell_type": "markdown",
      "source": [],
      "metadata": {
        "id": "ZIAT6BjJEG2b"
      }
    },
    {
      "cell_type": "code",
      "source": [],
      "metadata": {
        "id": "hW3Ts7WkDIBY"
      },
      "execution_count": null,
      "outputs": []
    },
    {
      "cell_type": "code",
      "source": [
        "sns.boxplot(data=df[['traveltime']], orient='h')"
      ],
      "metadata": {
        "id": "1WOgnxn1BCH1"
      },
      "execution_count": null,
      "outputs": []
    },
    {
      "cell_type": "code",
      "source": [
        "# Checking the outliers\n",
        "trav = df['traveltime']\n",
        "trav_up_lim = computeUpperFence(trav)\n",
        "df[ trav>trav_up_lim]\n"
      ],
      "metadata": {
        "id": "XjyF87qTBCzm"
      },
      "execution_count": null,
      "outputs": []
    },
    {
      "cell_type": "code",
      "source": [
        "sns.boxplot(data=df[['Fedu']], orient='h')"
      ],
      "metadata": {
        "id": "HVrEUmISBC4L"
      },
      "execution_count": null,
      "outputs": []
    },
    {
      "cell_type": "code",
      "source": [
        "# Checking the outliers\n",
        "F = df['Fedu']\n",
        "F_low_lim = computeUpperFence(F)\n",
        "df[ F<F_low_lim]\n"
      ],
      "metadata": {
        "id": "S_M7VjoiBC8d"
      },
      "execution_count": null,
      "outputs": []
    },
    {
      "cell_type": "code",
      "source": [
        "# lets check distribution of target variable"
      ],
      "metadata": {
        "id": "n0wM0FYUBDAd"
      },
      "execution_count": null,
      "outputs": []
    },
    {
      "cell_type": "code",
      "source": [
        "df[\"G3\"].hist(bins=25)\n",
        "plt.xlabel(\"G3\")\n",
        "plt.ylabel(\"Count\")\n",
        "plt.show()\n",
        "#it almost follow normal distribution"
      ],
      "metadata": {
        "id": "5LbuIjHLBDEp"
      },
      "execution_count": null,
      "outputs": []
    },
    {
      "cell_type": "code",
      "source": [],
      "metadata": {
        "id": "JDJV_JapBDIs"
      },
      "execution_count": null,
      "outputs": []
    },
    {
      "cell_type": "markdown",
      "source": [
        "# Capping approach"
      ],
      "metadata": {
        "id": "7F28QY-qG_nQ"
      }
    },
    {
      "cell_type": "code",
      "source": [
        "# Select only numeric columns\n",
        "num = df.select_dtypes(include='number')\n",
        "num.columns\n",
        "\n"
      ],
      "metadata": {
        "id": "SqlPEpXtBDMv"
      },
      "execution_count": null,
      "outputs": []
    },
    {
      "cell_type": "code",
      "source": [
        "# Iterate over each numeric column\n",
        "for col in num.columns:\n",
        "    # Compute the upper and lower fences for the current column\n",
        "    upper_fence = computeUpperFence(df[col])\n",
        "    lower_fence = computeUpperFence(df[col], up=False)\n",
        "\n",
        "    # Cap the outliers in the current column\n",
        "    df.loc[df[col] > upper_fence, col] = upper_fence\n",
        "    df.loc[df[col] < lower_fence, col] = lower_fence\n"
      ],
      "metadata": {
        "id": "DBn_tVehBDQ4"
      },
      "execution_count": null,
      "outputs": []
    },
    {
      "cell_type": "code",
      "source": [
        "sns.boxplot(data = df, orient='h')\n",
        "# we capped all the extreme values"
      ],
      "metadata": {
        "id": "PrdEF4YRBDVN"
      },
      "execution_count": null,
      "outputs": []
    },
    {
      "cell_type": "code",
      "source": [],
      "metadata": {
        "id": "8yFHlNVnBDZq"
      },
      "execution_count": null,
      "outputs": []
    },
    {
      "cell_type": "markdown",
      "source": [
        "# Regularising the categorical columns"
      ],
      "metadata": {
        "id": "nVGpOp7s3OgO"
      }
    },
    {
      "cell_type": "code",
      "source": [
        "catcols = df.select_dtypes(include='object').head()\n",
        "catcols"
      ],
      "metadata": {
        "id": "kJ_YcXil3VX8"
      },
      "execution_count": null,
      "outputs": []
    },
    {
      "cell_type": "code",
      "source": [],
      "metadata": {
        "id": "EySyWioU3b-G"
      },
      "execution_count": null,
      "outputs": []
    },
    {
      "cell_type": "markdown",
      "source": [
        "# Binary categorical columns"
      ],
      "metadata": {
        "id": "fRHIsvqc3iSt"
      }
    },
    {
      "cell_type": "code",
      "source": [
        "binary_cols = catcols.iloc[:,-8:].columns.to_list()"
      ],
      "metadata": {
        "id": "U1aojU0u3ls_"
      },
      "execution_count": null,
      "outputs": []
    },
    {
      "cell_type": "code",
      "source": [
        "binary_cols"
      ],
      "metadata": {
        "id": "TyPNM48S4Ltn"
      },
      "execution_count": null,
      "outputs": []
    },
    {
      "cell_type": "code",
      "source": [
        "def print_uniques(cols,df=df):\n",
        "  for col in cols:\n",
        "    list_unique = df[col].unique()\n",
        "    list_unique.sort()\n",
        "    print(col,':\\n', list_unique)\n",
        "    print('Number of unique categories:', len(list_unique))\n",
        "    print('---------------------------------')"
      ],
      "metadata": {
        "id": "qo-Do9N34Nwq"
      },
      "execution_count": null,
      "outputs": []
    },
    {
      "cell_type": "code",
      "source": [
        "print_uniques(binary_cols)"
      ],
      "metadata": {
        "id": "CAWW_RGr6_MO"
      },
      "execution_count": null,
      "outputs": []
    },
    {
      "cell_type": "code",
      "source": [],
      "metadata": {
        "id": "hHSvxR0O7Eak"
      },
      "execution_count": null,
      "outputs": []
    },
    {
      "cell_type": "markdown",
      "source": [
        "#Multi-Categorical columns"
      ],
      "metadata": {
        "id": "Is4NFp5P77wj"
      }
    },
    {
      "cell_type": "code",
      "source": [
        "catcols"
      ],
      "metadata": {
        "id": "-QZyhCgx8Ae-"
      },
      "execution_count": null,
      "outputs": []
    },
    {
      "cell_type": "code",
      "source": [
        "multiCat_cols = list(set(catcols)^set(binary_cols))\n",
        "multiCat_cols\n"
      ],
      "metadata": {
        "id": "1fjjcMh88EMn"
      },
      "execution_count": null,
      "outputs": []
    },
    {
      "cell_type": "code",
      "source": [
        "print_uniques(multiCat_cols)"
      ],
      "metadata": {
        "id": "o6mk1um38aEo"
      },
      "execution_count": null,
      "outputs": []
    },
    {
      "cell_type": "code",
      "source": [],
      "metadata": {
        "id": "Qm1Saxz_8u7V"
      },
      "execution_count": null,
      "outputs": []
    },
    {
      "cell_type": "markdown",
      "source": [
        "#Saving the cleaned data set"
      ],
      "metadata": {
        "id": "w-xOTOBd9yrg"
      }
    },
    {
      "cell_type": "code",
      "source": [
        "df.to_csv('student_clean.csv',index=False)"
      ],
      "metadata": {
        "id": "ZBVf6dJj96Y5"
      },
      "execution_count": null,
      "outputs": []
    }
  ]
}