{
  "nbformat": 4,
  "nbformat_minor": 0,
  "metadata": {
    "colab": {
      "private_outputs": true,
      "provenance": []
    },
    "kernelspec": {
      "name": "python3",
      "display_name": "Python 3"
    },
    "language_info": {
      "name": "python"
    }
  },
  "cells": [
    {
      "cell_type": "markdown",
      "source": [
        "# Import Libraries"
      ],
      "metadata": {
        "id": "YMZlPbAMEN3k"
      }
    },
    {
      "cell_type": "markdown",
      "source": [],
      "metadata": {
        "id": "JIB7SaXlY-iM"
      }
    },
    {
      "cell_type": "code",
      "source": [],
      "metadata": {
        "id": "3C-0WHL1ENk1"
      },
      "execution_count": null,
      "outputs": []
    },
    {
      "cell_type": "code",
      "execution_count": null,
      "metadata": {
        "id": "UxjRbUOGDT-Z"
      },
      "outputs": [],
      "source": [
        "import numpy as np\n",
        "import pandas as pd\n",
        "import seaborn as sns\n",
        "import matplotlib.pyplot as plt\n",
        "\n",
        "from sklearn.preprocessing import StandardScaler, LabelEncoder, OneHotEncoder\n"
      ]
    },
    {
      "cell_type": "code",
      "source": [
        "# Set display options\n",
        "pd.set_option('display.max_rows', 500)  # Set maximum number of rows to display\n",
        "pd.set_option('display.max_columns', 500)  # Display all columns (None means no maximum limit)\n",
        "pd.set_option('display.width', 500)"
      ],
      "metadata": {
        "id": "BIU5FvgdK6md"
      },
      "execution_count": null,
      "outputs": []
    },
    {
      "cell_type": "code",
      "source": [
        "# read the data\n",
        "df = pd.read_csv('/content/drive/MyDrive/data/student_clean.csv')"
      ],
      "metadata": {
        "id": "tR74kH4jEHow"
      },
      "execution_count": null,
      "outputs": []
    },
    {
      "cell_type": "code",
      "source": [
        "df.head()"
      ],
      "metadata": {
        "id": "X0hxNct_Eiru"
      },
      "execution_count": null,
      "outputs": []
    },
    {
      "cell_type": "code",
      "source": [
        "df.drop('failures',axis=1, inplace=True)"
      ],
      "metadata": {
        "id": "PAJ8e4uLmwLU"
      },
      "execution_count": null,
      "outputs": []
    },
    {
      "cell_type": "code",
      "source": [
        "df1 = df.copy()"
      ],
      "metadata": {
        "id": "Xu89zuyDXDOl"
      },
      "execution_count": null,
      "outputs": []
    },
    {
      "cell_type": "code",
      "source": [
        "df1.shape"
      ],
      "metadata": {
        "id": "VSbLmxTLVmG4"
      },
      "execution_count": null,
      "outputs": []
    },
    {
      "cell_type": "code",
      "source": [
        "df1.info()"
      ],
      "metadata": {
        "id": "u-zxXkfincVS"
      },
      "execution_count": null,
      "outputs": []
    },
    {
      "cell_type": "code",
      "source": [],
      "metadata": {
        "id": "l5mOl91tnvQU"
      },
      "execution_count": null,
      "outputs": []
    },
    {
      "cell_type": "markdown",
      "source": [
        "# EDA"
      ],
      "metadata": {
        "id": "ArFAMktNnxks"
      }
    },
    {
      "cell_type": "markdown",
      "source": [
        "### Univariate analysis"
      ],
      "metadata": {
        "id": "3prl_cmEtnBs"
      }
    },
    {
      "cell_type": "code",
      "source": [
        "# select all the numerical values\n",
        "num_col = df1.select_dtypes(exclude='object').columns.to_list()"
      ],
      "metadata": {
        "id": "P9sUtv2dn3mV"
      },
      "execution_count": null,
      "outputs": []
    },
    {
      "cell_type": "code",
      "source": [
        "# select all the categorical values\n",
        "cat_cols = df1.select_dtypes(include='object').columns.to_list()"
      ],
      "metadata": {
        "id": "tEf6ca6Xpctd"
      },
      "execution_count": null,
      "outputs": []
    },
    {
      "cell_type": "code",
      "source": [
        "df1.select_dtypes(include='object').head()"
      ],
      "metadata": {
        "id": "wnfIBnOQpqJo"
      },
      "execution_count": null,
      "outputs": []
    },
    {
      "cell_type": "code",
      "source": [
        "# select binary columns\n",
        "binary_cols = df1.iloc[:,-18:-10]"
      ],
      "metadata": {
        "id": "XjhIUcbrqNeS"
      },
      "execution_count": null,
      "outputs": []
    },
    {
      "cell_type": "code",
      "source": [
        "binary_cols.head()"
      ],
      "metadata": {
        "id": "waMYQzTOqXiC"
      },
      "execution_count": null,
      "outputs": []
    },
    {
      "cell_type": "code",
      "source": [
        "# Plotting bar plots for binary columns\n",
        "plt.figure(figsize=(14, 8))\n",
        "for i, column in enumerate(binary_cols, start=1):\n",
        "    plt.subplot(2, 4, i)\n",
        "    df[column].value_counts().plot(kind='bar', color=['skyblue', 'salmon'])\n",
        "    plt.title(column)\n",
        "    plt.xlabel('')\n",
        "    plt.ylabel('Count')\n",
        "\n",
        "plt.tight_layout()\n",
        "plt.show()"
      ],
      "metadata": {
        "id": "NhNzniBDn3ba"
      },
      "execution_count": null,
      "outputs": []
    },
    {
      "cell_type": "markdown",
      "source": [
        "#### Variables such as 'schoolsup', 'nursery', 'higher', and 'internet' are highly imbalanced."
      ],
      "metadata": {
        "id": "q0CEzLcvMEkg"
      }
    },
    {
      "cell_type": "code",
      "source": [],
      "metadata": {
        "id": "oZj2r349LHVw"
      },
      "execution_count": null,
      "outputs": []
    },
    {
      "cell_type": "code",
      "source": [
        "# List of categorical columns more then 2 categories\n",
        "cat_columns = ['Mjob', 'Fjob', 'reason', 'guardian']\n",
        "\n",
        "# Plotting pie plots for categorical columns\n",
        "plt.figure(figsize=(10, 6))\n",
        "for i, column in enumerate(cat_columns, start=1):\n",
        "    plt.subplot(2, 2, i)\n",
        "    # Count occurrences of each category\n",
        "    category_counts = df[column].value_counts()\n",
        "    plt.pie(category_counts, labels=category_counts.index, autopct='%1.1f%%', startangle=140)\n",
        "    plt.title(column)\n",
        "    plt.axis('equal')  # Equal aspect ratio ensures that pie is drawn as a circle.\n",
        "\n",
        "plt.tight_layout()\n",
        "plt.show()"
      ],
      "metadata": {
        "id": "kMsxdfbKn3YR"
      },
      "execution_count": null,
      "outputs": []
    },
    {
      "cell_type": "markdown",
      "source": [
        "#### Most fathers of students work in the services or other industries, while mothers also predominantly work in services or other fields. Students choose this school based on course preferences. Mothers, as guardians, have a larger distribution."
      ],
      "metadata": {
        "id": "UbyZ5GuDL-Xa"
      }
    },
    {
      "cell_type": "code",
      "source": [
        "import seaborn as sns\n",
        "import matplotlib.pyplot as plt\n",
        "\n",
        "# Selecting categorical columns\n",
        "cat_columns = ['school', 'sex', 'address', 'famsize', 'Pstatus']\n",
        "\n",
        "# Plotting countplots for each categorical variable with 'G3' as hue\n",
        "plt.figure(figsize=(16, 8))\n",
        "for i, col in enumerate(cat_columns, 1):\n",
        "    plt.subplot(2, 3, i)\n",
        "    sns.countplot(data=df, x=col, hue='sex', palette='Set2')\n",
        "    plt.xlabel(col)\n",
        "    plt.ylabel('Count')\n",
        "    plt.title(f'Distribution of {col} with G3 as hue')\n",
        "\n",
        "plt.tight_layout()\n",
        "plt.show()\n"
      ],
      "metadata": {
        "id": "rsHUaqban3ME"
      },
      "execution_count": null,
      "outputs": []
    },
    {
      "cell_type": "markdown",
      "source": [
        "#### Most students come from families with a family size greater than 3. The distribution of parents cohabitating, indicating living together, is more prevalent. The majority of students come from urban areas. There is an almost balanced distribution between female and male students, with females slightly outnumbering males. Students from Gabriel Pereira school have a larger distribution."
      ],
      "metadata": {
        "id": "v3-lB7GaRBZr"
      }
    },
    {
      "cell_type": "code",
      "source": [
        "# Selecting numerical columns\n",
        "num_columns = df.select_dtypes(include='number').columns\n",
        "\n",
        "# Calculating number of rows and columns for subplot layout\n",
        "num_plots = len(num_columns)\n",
        "num_rows = (num_plots // 3) + (num_plots % 3 > 0)\n",
        "num_cols = min(num_plots, 3)\n",
        "\n",
        "# Plotting histograms for each numerical variable\n",
        "plt.figure(figsize=(16, 4* num_rows))\n",
        "for i, col in enumerate(num_columns, 1):\n",
        "    plt.subplot(num_rows, num_cols, i)\n",
        "    sns.histplot(data=df, x=col, kde=True)\n",
        "    plt.xlabel(col)\n",
        "    plt.ylabel('Count')\n",
        "    plt.title(f'Distribution of {col}')\n",
        "\n",
        "plt.tight_layout()\n",
        "plt.show()\n",
        "\n"
      ],
      "metadata": {
        "id": "xxgkEIHZCBMD"
      },
      "execution_count": null,
      "outputs": []
    },
    {
      "cell_type": "markdown",
      "source": [
        "####The age distribution ranges from 15 to 22, with the majority falling within the 16 to 17 age range. Mothers' higher education attainment is more prevalent. Fathers' education levels oscillate predominantly between 5th to 9th grade. Alcohol consumption, whether on weekends or daily, is low. The distribution of health status predominantly indicates very good health."
      ],
      "metadata": {
        "id": "yhvuqynrT5az"
      }
    },
    {
      "cell_type": "markdown",
      "source": [
        "# Bivariate analysis"
      ],
      "metadata": {
        "id": "3e6mUbDK5ugK"
      }
    },
    {
      "cell_type": "code",
      "source": [
        "# Plotting\n",
        "plt.figure(figsize=(8, 4))\n",
        "plt.bar(df1['Fjob'], df1['G3'], color='skyblue')\n",
        "plt.xlabel('father\\'s Job')\n",
        "plt.ylabel('Final Grade (G3)')\n",
        "plt.title('Final Grade by Father\\'s Job')\n",
        "plt.show()\n"
      ],
      "metadata": {
        "id": "dr391_q4Fd0I"
      },
      "execution_count": null,
      "outputs": []
    },
    {
      "cell_type": "markdown",
      "source": [
        "#### Father's job in services slightly affects having better results in the exam grade."
      ],
      "metadata": {
        "id": "1yXVWeSXGxY6"
      }
    },
    {
      "cell_type": "code",
      "source": [
        "# Plotting\n",
        "plt.figure(figsize=(8, 4))\n",
        "plt.bar(df1['Mjob'], df1['G3'], color='pink')\n",
        "plt.xlabel('Mother\\'s Job')\n",
        "plt.ylabel('Final Grade (G3)')\n",
        "plt.title('Final Grade by Mother\\'s Job')\n",
        "plt.show()"
      ],
      "metadata": {
        "id": "eIhMeVCuGS1O"
      },
      "execution_count": null,
      "outputs": []
    },
    {
      "cell_type": "markdown",
      "source": [
        "#### Mother's job in helth slightly affects having better results in the exam grade."
      ],
      "metadata": {
        "id": "2YTc-WbvHb6A"
      }
    },
    {
      "cell_type": "code",
      "source": [],
      "metadata": {
        "id": "HBgN_xrCHSWR"
      },
      "execution_count": null,
      "outputs": []
    },
    {
      "cell_type": "code",
      "source": [
        "# Plotting scatter plot for 'studytime' vs 'G3'\n",
        "plt.figure(figsize=(10, 6))\n",
        "sns.scatterplot(data=df, x='studytime', y='G3')\n",
        "plt.xlabel('Weekly Study Time')\n",
        "plt.ylabel('Final Grade (G3)')\n",
        "plt.title('Scatter Plot of Weekly Study Time vs Final Grade')\n",
        "plt.show()\n"
      ],
      "metadata": {
        "id": "pfKt-8p1Fdxi"
      },
      "execution_count": null,
      "outputs": []
    },
    {
      "cell_type": "markdown",
      "source": [
        "#### It seems that having more study time does not significantly affect the final grade."
      ],
      "metadata": {
        "id": "oRU4Pg8zHs8Z"
      }
    },
    {
      "cell_type": "code",
      "source": [
        "# Plotting scatter plot for 'traveltime' vs 'G3'\n",
        "plt.figure(figsize=(10, 6))\n",
        "sns.scatterplot(data=df, x='traveltime', y='G3')\n",
        "plt.xlabel('Travel Time')\n",
        "plt.ylabel('Final Grade (G3)')\n",
        "plt.title('Scatter Plot of travel Time vs Final Grade')\n",
        "plt.show()"
      ],
      "metadata": {
        "id": "5Mw6T1cIHsHQ"
      },
      "execution_count": null,
      "outputs": []
    },
    {
      "cell_type": "markdown",
      "source": [
        "####Students who travel from home to school in less than 15 minutes achieve better final grades, while those who travel for more than 1 hour perform worse."
      ],
      "metadata": {
        "id": "wjrc4CWZIjPK"
      }
    },
    {
      "cell_type": "code",
      "source": [
        "sns.barplot(data = df1, x='internet', y='G3')"
      ],
      "metadata": {
        "id": "0L94covUFdu7"
      },
      "execution_count": null,
      "outputs": []
    },
    {
      "cell_type": "markdown",
      "source": [
        "#### At the distribution of internet access, we can see that most students have access to the internet at home. From this plot, we can infer that having internet access leads to better performance in final grades."
      ],
      "metadata": {
        "id": "KR5-5yMrKji4"
      }
    },
    {
      "cell_type": "markdown",
      "source": [
        "# Convering binary columns to dummy variables\n"
      ],
      "metadata": {
        "id": "YUsl0u2bGFbg"
      }
    },
    {
      "cell_type": "code",
      "source": [
        "binary = df.select_dtypes(include = 'object').head()\n",
        "binary"
      ],
      "metadata": {
        "id": "w1qSMK4HV98v"
      },
      "execution_count": null,
      "outputs": []
    },
    {
      "cell_type": "code",
      "source": [
        "binary_cols = binary.iloc[:,-8:].columns.to_list()\n",
        "binary_cols"
      ],
      "metadata": {
        "id": "X_nuBxj9GLj-"
      },
      "execution_count": null,
      "outputs": []
    },
    {
      "cell_type": "code",
      "source": [
        "# transforming the yes/no to 1/0\n",
        "label = LabelEncoder()\n",
        "for col in binary_cols:\n",
        "  df[col] = label.fit_transform(df[col])\n",
        "\n",
        "\n",
        "\n"
      ],
      "metadata": {
        "id": "8C9caJqBHeCF"
      },
      "execution_count": null,
      "outputs": []
    },
    {
      "cell_type": "code",
      "source": [
        "df.head()"
      ],
      "metadata": {
        "id": "gC8ZULulJsms"
      },
      "execution_count": null,
      "outputs": []
    },
    {
      "cell_type": "code",
      "source": [
        "df.select_dtypes(include='object').head()\n",
        "\n"
      ],
      "metadata": {
        "id": "VjZgg9jgJ5_h"
      },
      "execution_count": null,
      "outputs": []
    },
    {
      "cell_type": "code",
      "source": [
        "def print_uniques( cols, df=df ):\n",
        "    for col in cols:\n",
        "        list_unique = df[col].unique()\n",
        "        list_unique.sort()\n",
        "        print(col, \":\\n\", list_unique)\n",
        "        print(\"Number of unique categories:\", len(list_unique))\n",
        "        print(\"--------------------\")"
      ],
      "metadata": {
        "id": "_Zfd5TFAL5e1"
      },
      "execution_count": null,
      "outputs": []
    },
    {
      "cell_type": "code",
      "source": [
        "print_uniques(df.select_dtypes(include='object'))"
      ],
      "metadata": {
        "id": "2UyiSwo_M9iv"
      },
      "execution_count": null,
      "outputs": []
    },
    {
      "cell_type": "code",
      "source": [
        "# Select categorical columns to encode\n",
        "cat_columns = ['school', 'sex', 'address', 'famsize', 'Pstatus']\n",
        "\n",
        "# Fit and transform the selected columns\n",
        "for col in cat_columns:\n",
        "    df[col] = label.fit_transform(df[col])\n"
      ],
      "metadata": {
        "id": "ZlhWm4HmNBhb"
      },
      "execution_count": null,
      "outputs": []
    },
    {
      "cell_type": "code",
      "source": [
        "df.head()"
      ],
      "metadata": {
        "id": "kI12Nk3-OBZf"
      },
      "execution_count": null,
      "outputs": []
    },
    {
      "cell_type": "code",
      "source": [],
      "metadata": {
        "id": "zP9CHqTKO1qW"
      },
      "execution_count": null,
      "outputs": []
    },
    {
      "cell_type": "markdown",
      "source": [
        "# Convert categorical variables with more than three categories into dummy variables"
      ],
      "metadata": {
        "id": "YAO3i1DvPdrU"
      }
    },
    {
      "cell_type": "code",
      "source": [
        "# Dummy variable conversion\n",
        "OneHot = OneHotEncoder(sparse=False)\n",
        "X_dummy = OneHot.fit_transform(df[['Mjob','Fjob','reason','guardian']])\n",
        "X_dummy.shape, X_dummy, X_dummy.dtype\n"
      ],
      "metadata": {
        "id": "VNteJ7XiPvHo"
      },
      "execution_count": null,
      "outputs": []
    },
    {
      "cell_type": "code",
      "source": [
        "# type conversion\n",
        "X_dummy = X_dummy.astype('int64')"
      ],
      "metadata": {
        "id": "9gZUcEx0QoS-"
      },
      "execution_count": null,
      "outputs": []
    },
    {
      "cell_type": "code",
      "source": [
        "# adding the dummy columns to the dataset"
      ],
      "metadata": {
        "id": "kK8GYIJOQ8fY"
      },
      "execution_count": null,
      "outputs": []
    },
    {
      "cell_type": "code",
      "source": [
        "# Convert the NumPy array to a DataFrame\n",
        "X_dummy_df = pd.DataFrame(X_dummy, columns=OneHot.get_feature_names_out(['Mjob', 'Fjob', 'reason', 'guardian']))\n",
        "\n",
        "# Concatenate X_dummy_df with the original DataFrame df\n",
        "df_with_dummies = pd.concat([df, X_dummy_df], axis=1)\n",
        "\n",
        "# Now, df_with_dummies contains the original DataFrame df with the dummy variables added\n"
      ],
      "metadata": {
        "id": "XSRhsED3RnAw"
      },
      "execution_count": null,
      "outputs": []
    },
    {
      "cell_type": "code",
      "source": [
        "df_with_dummies.head()"
      ],
      "metadata": {
        "id": "FH87-F7VR6NU"
      },
      "execution_count": null,
      "outputs": []
    },
    {
      "cell_type": "code",
      "source": [
        "# check only object datatype columns\n",
        "data = df_with_dummies.select_dtypes(exclude=\"object\")"
      ],
      "metadata": {
        "id": "kDz3pxFVUKtU"
      },
      "execution_count": null,
      "outputs": []
    },
    {
      "cell_type": "code",
      "source": [
        "data.head()"
      ],
      "metadata": {
        "id": "b435kRWLU9zW"
      },
      "execution_count": null,
      "outputs": []
    },
    {
      "cell_type": "code",
      "source": [
        "data.shape"
      ],
      "metadata": {
        "id": "MULg-cnNVZ92"
      },
      "execution_count": null,
      "outputs": []
    },
    {
      "cell_type": "markdown",
      "source": [
        "# Correlation map of numerical data"
      ],
      "metadata": {
        "id": "bAEWNOaQZb_r"
      }
    },
    {
      "cell_type": "code",
      "source": [
        "corr = df1.select_dtypes(exclude='object')\n",
        "num_corr = corr.corr()\n",
        "plt.figure(figsize=(30, 20))\n",
        "sns.heatmap(num_corr, vmin=-1, cmap='Greys', annot=True)\n",
        "plt.show()\n"
      ],
      "metadata": {
        "id": "YGIumypSc5SU"
      },
      "execution_count": null,
      "outputs": []
    },
    {
      "cell_type": "markdown",
      "source": [
        "There is multicolinearity G1 and G2 are highly correlated.\n",
        "Lets create a new composite variable by taking the average of G1, G2,G3"
      ],
      "metadata": {
        "id": "8Rx7z-ueFTKy"
      }
    },
    {
      "cell_type": "code",
      "source": [
        "df1['G3_comp'] = (df1['G1']+df1['G2']+df1['G3'])/3\n",
        "# Convert the 'G3_comp' variable to integer type\n",
        "df1['G3_comp'] = df1['G3_comp'].astype(int)\n",
        "df1.drop(['G1','G2','G3'], axis=1,inplace=True)\n"
      ],
      "metadata": {
        "id": "Bdp6dzgfEKeQ"
      },
      "execution_count": null,
      "outputs": []
    },
    {
      "cell_type": "code",
      "source": [
        "corr = df1.select_dtypes(exclude='object')\n",
        "num_corr = corr.corr()\n",
        "plt.figure(figsize=(30, 20))\n",
        "sns.heatmap(num_corr, vmin=-1, cmap='Greys', annot=True)\n",
        "plt.show()"
      ],
      "metadata": {
        "id": "DKgIgjg1E57u"
      },
      "execution_count": null,
      "outputs": []
    },
    {
      "cell_type": "markdown",
      "source": [
        "# Correlation between categorical variables.\n",
        "## Chi-square"
      ],
      "metadata": {
        "id": "K6jpp3Z5K2cB"
      }
    },
    {
      "cell_type": "code",
      "source": [
        "from scipy.stats import chi2_contingency\n",
        "\n",
        "# List of categorical variables\n",
        "categorical_vars = ['Mjob','Fjob','reason','guardian']\n",
        "\n",
        "# Perform chi-square test for each pair of categorical variables\n",
        "for var1 in categorical_vars:\n",
        "    for var2 in categorical_vars:\n",
        "        if var1 != var2:  # Avoid comparing a variable to itself\n",
        "            contingency_table = pd.crosstab(df1[var1], df1[var2])\n",
        "            chi2_stat, p_value, dof, expected = chi2_contingency(contingency_table)\n",
        "            print(f\"Chi-square test for {var1} and {var2}:\")\n",
        "            print(\"Chi-square statistic:\", chi2_stat)\n",
        "            print(\"p-value:\", p_value)\n",
        "            if p_value < 0.05:\n",
        "                print(\"Reject the null hypothesis: There is a significant association between\", var1, \"and\", var2)\n",
        "            else:\n",
        "                print(\"Fail to reject the null hypothesis: There is no significant association between\", var1, \"and\", var2)\n",
        "            print()\n"
      ],
      "metadata": {
        "id": "gB3WlewGLNZU"
      },
      "execution_count": null,
      "outputs": []
    },
    {
      "cell_type": "markdown",
      "source": [],
      "metadata": {
        "id": "hN-14MNZb3C8"
      }
    },
    {
      "cell_type": "code",
      "source": [
        "data['G3_comp'] = (data['G1']+data['G2']+data['G3'])/3"
      ],
      "metadata": {
        "id": "i3Xn_6kTDjJv"
      },
      "execution_count": null,
      "outputs": []
    },
    {
      "cell_type": "code",
      "source": [
        "# Convert the 'G3_comp' variable to integer type\n",
        "data['G3_comp'] = data['G3_comp'].astype(int)\n"
      ],
      "metadata": {
        "id": "BbvZXW4REWxH"
      },
      "execution_count": null,
      "outputs": []
    },
    {
      "cell_type": "code",
      "source": [
        "data.drop(['G1','G2','G3'], axis=1,inplace=True)"
      ],
      "metadata": {
        "id": "GaSan53mEzQC"
      },
      "execution_count": null,
      "outputs": []
    },
    {
      "cell_type": "code",
      "source": [],
      "metadata": {
        "id": "28QA4JNrE3fN"
      },
      "execution_count": null,
      "outputs": []
    },
    {
      "cell_type": "code",
      "source": [
        "data.head()"
      ],
      "metadata": {
        "id": "VbjCPhjtELKw"
      },
      "execution_count": null,
      "outputs": []
    },
    {
      "cell_type": "markdown",
      "source": [
        "####Cheking multicolinearity among the features using VIG (Variance Inflation Factor)"
      ],
      "metadata": {
        "id": "Bg_dSUZyezZ8"
      }
    },
    {
      "cell_type": "code",
      "source": [
        "import statsmodels.api as sm\n",
        "from statsmodels.stats.outliers_influence import variance_inflation_factor\n",
        "\n",
        "\n",
        "# Fit a multiple linear regression model\n",
        "X = data.drop('G3_comp', axis=1)  # Drop the target variable 'G3'. Make sure to specify the axis.\n",
        "y = data['G3_comp']  # Target variable\n",
        "X = sm.add_constant(X)  # Add a constant term to the predictor variables\n",
        "model = sm.OLS(y, X).fit()\n",
        "\n",
        "# Calculate VIF for each predictor variable\n",
        "vif_data = pd.DataFrame()\n",
        "vif_data[\"Variable\"] = X.columns[1:]  # Exclude the intercept term from VIF calculation\n",
        "vif_data[\"VIF\"] = [variance_inflation_factor(X.values, i) for i in range(1, X.shape[1])]\n",
        "\n",
        "# Print the VIF values\n",
        "print(vif_data)\n"
      ],
      "metadata": {
        "id": "CSomjbnp5Z79"
      },
      "execution_count": null,
      "outputs": []
    },
    {
      "cell_type": "markdown",
      "source": [
        "####The variables 'G1' and 'G2' have VIF values of approximately 5.72 and 5.56, respectively, which are relatively high. The categorical variables related to 'Mjob', 'Fjob', 'reason', and 'guardian' also have infinite VIF values, indicating severe multicollinearity. This could be due to perfect multicollinearity, where one or more of these categorical variables are redundant or highly correlated with each other"
      ],
      "metadata": {
        "id": "RKdkfcvJfFOl"
      }
    },
    {
      "cell_type": "markdown",
      "source": [
        "# Feature selection"
      ],
      "metadata": {
        "id": "rF4IGgsgmOJx"
      }
    },
    {
      "cell_type": "code",
      "source": [
        "corr_list = []  # to keep the correlations with 'G3'\n",
        "for col in data.columns:\n",
        "    corr_list.append(round(data['G3_comp'].corr(data[col]),2) )\n",
        "\n",
        "corr_list\n",
        "\n"
      ],
      "metadata": {
        "id": "ssIQ2Oi0jl6i"
      },
      "execution_count": null,
      "outputs": []
    },
    {
      "cell_type": "code",
      "source": [
        "# Sorted correlations\n",
        "df_corr = pd.DataFrame( data=zip(data, corr_list),\n",
        "                 columns=[\"col_name\", \"corr\"] )\\\n",
        "            .sort_values(\"corr\", ascending=False)\\\n",
        "            .reset_index(drop=True)\n",
        "df_corr"
      ],
      "metadata": {
        "id": "9wyuPcjmmi03"
      },
      "execution_count": null,
      "outputs": []
    },
    {
      "cell_type": "code",
      "source": [
        "# Distribution of correlations with G3\n",
        "fig, ax = plt.subplots(figsize=(15,5))\n",
        "abs(df_corr[\"corr\"]).hist(bins=46)\n",
        "ax.set_xticks(np.arange(0, 1, 0.05))\n",
        "plt.xticks(rotation=45)\n",
        "plt.show()"
      ],
      "metadata": {
        "id": "mDERSc0soX3M"
      },
      "execution_count": null,
      "outputs": []
    },
    {
      "cell_type": "code",
      "source": [
        "features = df_corr.loc[abs(df_corr[\"corr\"])>.1, \"col_name\"].to_list()\n",
        "features, len(features)"
      ],
      "metadata": {
        "id": "ek124VyysiDh"
      },
      "execution_count": null,
      "outputs": []
    },
    {
      "cell_type": "code",
      "source": [],
      "metadata": {
        "id": "onp34BIy5GUK"
      },
      "execution_count": null,
      "outputs": []
    },
    {
      "cell_type": "markdown",
      "source": [
        "# Data Scalling"
      ],
      "metadata": {
        "id": "mRZHt4bUwMAY"
      }
    },
    {
      "cell_type": "code",
      "source": [
        "# Selection the final dataset\n",
        "final_data = data[features].copy()\n",
        "final_data.head()"
      ],
      "metadata": {
        "id": "AuhrkP1g3kjB"
      },
      "execution_count": null,
      "outputs": []
    },
    {
      "cell_type": "code",
      "source": [
        "final_data.drop('Mjob_other',axis=1,inplace=True)"
      ],
      "metadata": {
        "id": "nhJiyyfWaK7K"
      },
      "execution_count": null,
      "outputs": []
    },
    {
      "cell_type": "markdown",
      "source": [
        "# Save the data"
      ],
      "metadata": {
        "id": "sfRLI1gB68Om"
      }
    },
    {
      "cell_type": "code",
      "source": [
        "# save the new data\n",
        "final_data.to_csv('student_analysis.csv', index=False)"
      ],
      "metadata": {
        "id": "c4W-5ZMx6-dW"
      },
      "execution_count": null,
      "outputs": []
    },
    {
      "cell_type": "code",
      "source": [],
      "metadata": {
        "id": "t49PMjnYLChX"
      },
      "execution_count": null,
      "outputs": []
    }
  ]
}